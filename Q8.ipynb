{
  "nbformat": 4,
  "nbformat_minor": 0,
  "metadata": {
    "colab": {
      "provenance": [],
      "authorship_tag": "ABX9TyOPh9wHLMLXcfCesnllzrI3",
      "include_colab_link": true
    },
    "kernelspec": {
      "name": "python3",
      "display_name": "Python 3"
    },
    "language_info": {
      "name": "python"
    }
  },
  "cells": [
    {
      "cell_type": "markdown",
      "metadata": {
        "id": "view-in-github",
        "colab_type": "text"
      },
      "source": [
        "<a href=\"https://colab.research.google.com/github/jaskiratkalra26/jaskirat_assignment1_DL/blob/main/exp8.ipynb\" target=\"_parent\"><img src=\"https://colab.research.google.com/assets/colab-badge.svg\" alt=\"Open In Colab\"/></a>"
      ]
    },
    {
      "cell_type": "markdown",
      "source": [
        "8.IMPLEMENT A NEURAL NETWORK FOR BINARY CLASSIFICATION AND TEST DIFFERENT ACTIVATION FUNCTIONS LIKE ReLU, SIGMOID AND Tanh."
      ],
      "metadata": {
        "id": "ZRk0QQy8e0ak"
      }
    },
    {
      "cell_type": "code",
      "execution_count": null,
      "metadata": {
        "id": "P_vzt4UPeN8U"
      },
      "outputs": [],
      "source": [
        "import numpy as np\n",
        "import matplotlib.pyplot as plt"
      ]
    },
    {
      "cell_type": "code",
      "source": [
        "from sklearn.datasets import make_moons\n",
        "features, target = make_moons(n_samples=1000, noise=0.2, random_state=12)\n",
        "y = target.reshape(-1, 1)\n",
        "y.shape"
      ],
      "metadata": {
        "colab": {
          "base_uri": "https://localhost:8080/"
        },
        "id": "sxMtKCeLfAdN",
        "outputId": "ec645e59-de60-4886-ed46-6aa1200578dc"
      },
      "execution_count": null,
      "outputs": [
        {
          "output_type": "execute_result",
          "data": {
            "text/plain": [
              "(1000, 1)"
            ]
          },
          "metadata": {},
          "execution_count": 37
        }
      ]
    },
    {
      "cell_type": "code",
      "source": [
        "from sklearn.preprocessing import StandardScaler\n",
        "scaler = StandardScaler()\n",
        "x = scaler.fit_transform(features)"
      ],
      "metadata": {
        "id": "0KBx1i7CfVd9"
      },
      "execution_count": null,
      "outputs": []
    },
    {
      "cell_type": "code",
      "source": [
        "from sklearn.model_selection import train_test_split\n",
        "x_train, x_test, y_train, y_test = train_test_split(x, y, test_size=0.2, random_state=12)"
      ],
      "metadata": {
        "id": "Bf6NtUUSfeUc"
      },
      "execution_count": null,
      "outputs": []
    },
    {
      "cell_type": "code",
      "source": [
        "def sigmoid(x):\n",
        "    return 1 / (1 + np.exp(-x))\n",
        "\n",
        "def sigmoid_derivative(x):\n",
        "    return x * (1 - x)\n",
        "\n",
        "def tanh(x):\n",
        "    return np.tanh(x)\n",
        "\n",
        "def tanh_derivative(x):\n",
        "    return 1 - np.tanh(x) ** 2\n",
        "\n",
        "def relu(x):\n",
        "    return np.maximum(0, x)\n",
        "\n",
        "def relu_derivative(x):\n",
        "    return np.where(x > 0, 1, 0)"
      ],
      "metadata": {
        "id": "VMKEdP3yfqqK"
      },
      "execution_count": null,
      "outputs": []
    },
    {
      "cell_type": "code",
      "source": [
        "class NeuralNetwork:\n",
        "    def __init__(self, input_size, hidden_size, activation='sigmoid', lr=0.01):\n",
        "        np.random.seed(42)\n",
        "        self.lr = lr\n",
        "        self.activation_name = activation\n",
        "        self.W1 = np.random.randn(input_size, hidden_size) * 0.1\n",
        "        self.b1 = np.zeros((1, hidden_size))\n",
        "        self.W2 = np.random.randn(hidden_size, 1) * 0.1\n",
        "        self.b2 = np.zeros((1, 1))\n",
        "\n",
        "        if activation == 'sigmoid':\n",
        "            self.activation = sigmoid\n",
        "            self.activation_derivative = sigmoid_derivative\n",
        "        elif activation == 'tanh':\n",
        "            self.activation = tanh\n",
        "            self.activation_derivative = tanh_derivative\n",
        "        elif activation == 'relu':\n",
        "            self.activation = relu\n",
        "            self.activation_derivative = relu_derivative\n",
        "        else:\n",
        "            raise ValueError(\"Activation function must be 'sigmoid', 'tanh', or 'relu'\")\n",
        "            def forward(self, X):\n",
        "              self.Z1 = X @ self.W1 + self.b1\n",
        "              self.A1 = self.activation(self.Z1)\n",
        "              self.Z2 = self.A1 @ self.W2 + self.b2\n",
        "              self.A2 = sigmoid(self.Z2)\n",
        "              return self.A2\n",
        "\n",
        "    def forward(self, X):\n",
        "        self.Z1 = X @ self.W1 + self.b1\n",
        "        self.A1 = self.activation(self.Z1)\n",
        "        self.Z2 = self.A1 @ self.W2 + self.b2\n",
        "        self.A2 = sigmoid(self.Z2)\n",
        "        return self.A2\n",
        "\n",
        "    def backward(self, X, y):\n",
        "        m = X.shape[0]\n",
        "        dZ2 = self.A2 - y\n",
        "        dW2 = (self.A1.T @ dZ2) / m\n",
        "        db2 = np.sum(dZ2, axis=0, keepdims=True) / m\n",
        "\n",
        "        dA1 = dZ2 @ self.W2.T\n",
        "        dZ1 = dA1 * self.activation_derivative(self.A1)\n",
        "        dW1 = (X.T @ dZ1) / m\n",
        "        db1 = np.sum(dZ1, axis=0, keepdims=True) / m\n",
        "\n",
        "        self.W2 -= self.lr * dW2\n",
        "        self.b2 -= self.lr * db2\n",
        "        self.W1 -= self.lr * dW1\n",
        "        self.b1 -= self.lr * db1\n",
        "\n",
        "    def compute_loss(self, y_true, y_pred):\n",
        "        return -np.mean(y_true * np.log(y_pred + 1e-8) + (1 - y_true) * np.log(1 - y_pred + 1e-8))\n",
        "\n",
        "    def train(self, X, y, epochs=1000):\n",
        "        loss_history = []\n",
        "        for epoch in range(epochs):\n",
        "            y_pred = self.forward(X)\n",
        "            loss = self.compute_loss(y, y_pred)\n",
        "            loss_history.append(loss)\n",
        "            self.backward(X, y)\n",
        "\n",
        "            if epoch % 100 == 0:\n",
        "                print(f\"Epoch {epoch}: Loss = {loss:.4f}\")\n",
        "\n",
        "        return loss_history\n",
        "\n",
        "    def predict(self, X):\n",
        "        return (self.forward(X) > 0.5).astype(int)"
      ],
      "metadata": {
        "id": "PCFaDUTUrZeI"
      },
      "execution_count": null,
      "outputs": []
    },
    {
      "cell_type": "code",
      "source": [
        "activations = ['sigmoid', 'tanh', 'relu']\n",
        "histories = {}\n",
        "\n",
        "for act in activations:\n",
        "    print(f\"\\nTraining Neural Network with {act} activation:\")\n",
        "    nn = NeuralNetwork(input_size=2, hidden_size=5, activation=act, lr=0.1)\n",
        "    histories[act] = nn.train(x_train, y_train, epochs=1000)\n",
        "\n",
        "    y_pred_test = nn.predict(x_test)\n",
        "    accuracy = np.mean(y_pred_test == y_test) * 100\n",
        "    print(f\"Test Accuracy ({act}): {accuracy:.2f}%\")"
      ],
      "metadata": {
        "colab": {
          "base_uri": "https://localhost:8080/"
        },
        "id": "1ek9MQNrrdn6",
        "outputId": "7b90d4c6-e246-4f16-ddc3-90d215527815"
      },
      "execution_count": null,
      "outputs": [
        {
          "output_type": "stream",
          "name": "stdout",
          "text": [
            "\n",
            "Training Neural Network with sigmoid activation:\n",
            "Epoch 0: Loss = 0.7001\n",
            "Epoch 100: Loss = 0.6784\n",
            "Epoch 200: Loss = 0.6008\n",
            "Epoch 300: Loss = 0.4482\n",
            "Epoch 400: Loss = 0.3558\n",
            "Epoch 500: Loss = 0.3189\n",
            "Epoch 600: Loss = 0.3029\n",
            "Epoch 700: Loss = 0.2949\n",
            "Epoch 800: Loss = 0.2907\n",
            "Epoch 900: Loss = 0.2883\n",
            "Test Accuracy (sigmoid): 88.50%\n",
            "\n",
            "Training Neural Network with tanh activation:\n",
            "Epoch 0: Loss = 0.6985\n",
            "Epoch 100: Loss = 0.3281\n",
            "Epoch 200: Loss = 0.2957\n",
            "Epoch 300: Loss = 0.2935\n",
            "Epoch 400: Loss = 0.2933\n",
            "Epoch 500: Loss = 0.2931\n",
            "Epoch 600: Loss = 0.2929\n",
            "Epoch 700: Loss = 0.2926\n",
            "Epoch 800: Loss = 0.2923\n",
            "Epoch 900: Loss = 0.2920\n",
            "Test Accuracy (tanh): 86.50%\n",
            "\n",
            "Training Neural Network with relu activation:\n",
            "Epoch 0: Loss = 0.6959\n",
            "Epoch 100: Loss = 0.4662\n",
            "Epoch 200: Loss = 0.3459\n",
            "Epoch 300: Loss = 0.3140\n",
            "Epoch 400: Loss = 0.2998\n",
            "Epoch 500: Loss = 0.2914\n",
            "Epoch 600: Loss = 0.2864\n",
            "Epoch 700: Loss = 0.2832\n",
            "Epoch 800: Loss = 0.2810\n",
            "Epoch 900: Loss = 0.2793\n",
            "Test Accuracy (relu): 87.50%\n"
          ]
        }
      ]
    },
    {
      "cell_type": "code",
      "source": [
        "plt.figure(figsize=(8, 5))\n",
        "for act in activations:\n",
        "    plt.plot(histories[act], label=f'{act}')\n",
        "plt.xlabel('Epochs')\n",
        "plt.ylabel('Loss')\n",
        "plt.legend()\n",
        "plt.title('Loss Curves for Different Activation Functions')\n",
        "plt.show()"
      ],
      "metadata": {
        "colab": {
          "base_uri": "https://localhost:8080/",
          "height": 487
        },
        "id": "XVAO-9UZss-6",
        "outputId": "f9fa2ce1-a6b0-4699-d890-835b40cf43fa"
      },
      "execution_count": null,
      "outputs": [
        {
          "output_type": "display_data",
          "data": {
            "text/plain": [
              "<Figure size 800x500 with 1 Axes>"
            ],
            "image/png": "[encoded data removed]"
          },
          "metadata": {}
        }
      ]
    },
    {
      "cell_type": "code",
      "source": [],
      "metadata": {
        "id": "ZutBuNPytIOl"
      },
      "execution_count": null,
      "outputs": []
    }
  ]
}
